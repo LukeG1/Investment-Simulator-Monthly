{
 "cells": [
  {
   "cell_type": "code",
   "execution_count": 1,
   "id": "20b24ce2",
   "metadata": {},
   "outputs": [],
   "source": [
    "f = open(\"./M1109BUSM293NNBR.csv\", \"r\").read()"
   ]
  },
  {
   "cell_type": "code",
   "execution_count": null,
   "id": "c88e3a86",
   "metadata": {},
   "outputs": [],
   "source": []
  },
  {
   "cell_type": "code",
   "execution_count": 43,
   "id": "11e43d58",
   "metadata": {},
   "outputs": [],
   "source": [
    "import numpy as np\n",
    "import pandas as pd\n",
    "\n",
    "class GBMSimulator:\n",
    "    def __init__(self, historical_returns: pd.DataFrame):\n",
    "        \"\"\"\n",
    "        historical_returns: DataFrame with columns as indices and rows as monthly returns (in decimal form, e.g., 0.01 for 1%)\n",
    "        \"\"\"\n",
    "        self.historical_returns = historical_returns\n",
    "        self.params = self._estimate_gbm_params()\n",
    "\n",
    "    def _estimate_gbm_params(self):\n",
    "        \"\"\"\n",
    "        Estimate drift (mu) and volatility (sigma) per index.\n",
    "        \"\"\"\n",
    "        params = {}\n",
    "        for index in self.historical_returns.columns:\n",
    "            returns = self.historical_returns[index].dropna()\n",
    "            mu = returns.mean()\n",
    "            sigma = returns.std()\n",
    "            params[index] = {'mu': mu, 'sigma': sigma}\n",
    "        return params\n",
    "\n",
    "    def simulate(self, n_months: int, seed: int):\n",
    "        \"\"\"\n",
    "        Simulate GBM paths for each index.\n",
    "        Returns: dict of index_name -> np.array of simulated returns (starting at time 1).\n",
    "        \"\"\"\n",
    "        np.random.seed(seed)\n",
    "        simulations = {}\n",
    "\n",
    "        for index, param in self.params.items():\n",
    "            mu, sigma = param['mu'], param['sigma']\n",
    "            # Generate random standard normal values\n",
    "            z = np.random.normal(size=n_months)\n",
    "            # GBM log returns: log(1 + r_t)\n",
    "            log_returns = (mu - 0.5 * sigma**2) + sigma * z\n",
    "            # Convert log returns to arithmetic returns\n",
    "            returns = np.exp(log_returns) - 1\n",
    "            simulations[index] = returns\n",
    "\n",
    "        return simulations\n",
    "\n",
    "    def get_simulated_return(self, index: str, seed: int, t: int, n_months=240):\n",
    "        \"\"\"\n",
    "        Get the simulated return at month t for given index and seed.\n",
    "        \"\"\"\n",
    "        if index not in self.params:\n",
    "            raise ValueError(f\"Index '{index}' not found in historical data.\")\n",
    "        if t >= n_months:\n",
    "            raise ValueError(f\"t={t} is beyond the simulated range of {n_months} months.\")\n",
    "\n",
    "        sim_returns = self.simulate(n_months, seed)\n",
    "        return sim_returns[index][t]\n"
   ]
  },
  {
   "cell_type": "code",
   "execution_count": 48,
   "id": "df2863e9",
   "metadata": {},
   "outputs": [],
   "source": [
    "import pandas as pd\n",
    "\n",
    "def load_returns_from_csv(file_path: str, index_name: str = 'Index'):\n",
    "    \"\"\"\n",
    "    Loads a CSV with 'date' and 'value' columns and returns a DataFrame\n",
    "    with monthly returns, suitable for GBMSimulator.\n",
    "\n",
    "    The result will be a DataFrame with a single column named after the index.\n",
    "    \"\"\"\n",
    "    df = pd.read_csv(file_path, parse_dates=['observation_date'])\n",
    "    df = df.sort_values('observation_date')\n",
    "\n",
    "    # Calculate returns\n",
    "    df['return'] = df['M1109BUSM293NNBR'].pct_change()\n",
    "\n",
    "    # Drop the first row with NaN\n",
    "    df = df.dropna(subset=['return'])\n",
    "\n",
    "    # Format into DataFrame for simulator\n",
    "    df_returns = df[['observation_date', 'return']].copy()\n",
    "    df_returns.set_index('observation_date', inplace=True)\n",
    "    df_returns.columns = [index_name]\n",
    "\n",
    "    return df_returns\n"
   ]
  },
  {
   "cell_type": "code",
   "execution_count": 49,
   "id": "5267b9d2",
   "metadata": {},
   "outputs": [
    {
     "name": "stdout",
     "output_type": "stream",
     "text": [
      "Simulated return at t=12: 1.6025%\n"
     ]
    }
   ],
   "source": [
    "# Replace 'your_file.csv' with your actual file path\n",
    "df_returns = load_returns_from_csv('./M1109BUSM293NNBR.csv', index_name='S&P500')\n",
    "\n",
    "# Now you can pass this to the GBMSimulator\n",
    "sim = GBMSimulator(df_returns)\n",
    "ret = sim.get_simulated_return('S&P500', seed=42, t=12)\n",
    "print(f\"Simulated return at t=12: {ret:.4%}\")\n"
   ]
  },
  {
   "cell_type": "code",
   "execution_count": 6,
   "id": "59844eef",
   "metadata": {},
   "outputs": [
    {
     "ename": "NameError",
     "evalue": "name 'df_returns' is not defined",
     "output_type": "error",
     "traceback": [
      "\u001b[0;31m---------------------------------------------------------------------------\u001b[0m",
      "\u001b[0;31mNameError\u001b[0m                                 Traceback (most recent call last)",
      "Cell \u001b[0;32mIn[6], line 11\u001b[0m\n\u001b[1;32m      8\u001b[0m n_paths \u001b[38;5;241m=\u001b[39m \u001b[38;5;241m1\u001b[39m\n\u001b[1;32m     10\u001b[0m \u001b[38;5;66;03m# Historical cumulative return\u001b[39;00m\n\u001b[0;32m---> 11\u001b[0m hist_returns \u001b[38;5;241m=\u001b[39m \u001b[43mdf_returns\u001b[49m[index]\u001b[38;5;241m.\u001b[39mdropna()\n\u001b[1;32m     12\u001b[0m hist_cumulative \u001b[38;5;241m=\u001b[39m (\u001b[38;5;241m1\u001b[39m \u001b[38;5;241m+\u001b[39m hist_returns)\u001b[38;5;241m.\u001b[39mcumprod()\n\u001b[1;32m     13\u001b[0m last_value \u001b[38;5;241m=\u001b[39m hist_cumulative\u001b[38;5;241m.\u001b[39miloc[\u001b[38;5;241m-\u001b[39m\u001b[38;5;241m1\u001b[39m]\n",
      "\u001b[0;31mNameError\u001b[0m: name 'df_returns' is not defined"
     ]
    }
   ],
   "source": [
    "import matplotlib.pyplot as plt\n",
    "import pandas as pd\n",
    "import numpy as np\n",
    "\n",
    "# Parameters\n",
    "index = 'S&P500'\n",
    "n_months = 120\n",
    "n_paths = 1\n",
    "\n",
    "# Historical cumulative return\n",
    "hist_returns = df_returns[index].dropna()\n",
    "hist_cumulative = (1 + hist_returns).cumprod()\n",
    "last_value = hist_cumulative.iloc[-1]\n",
    "\n",
    "# Dates for simulated paths\n",
    "sim_start = hist_cumulative.index[-1] + pd.offsets.MonthBegin()\n",
    "sim_dates = pd.date_range(start=sim_start, periods=n_months, freq='MS')\n",
    "\n",
    "# Plot\n",
    "plt.figure(figsize=(14, 7))\n",
    "\n",
    "# Plot all simulated paths in faint gray\n",
    "for i in range(n_paths):\n",
    "    sim_returns = sim.simulate(n_months, seed=i+1000)[index]\n",
    "    sim_cumulative = (1 + sim_returns).cumprod() * last_value\n",
    "    plt.plot(sim_dates, sim_cumulative, color='green', alpha=0.25, linewidth=1)\n",
    "\n",
    "# Plot historical in blue on top\n",
    "plt.plot(hist_cumulative, color='blue', label='Historical', linewidth=2)\n",
    "\n",
    "plt.title(f\"$1 Invested in {index} with 500 Simulated Future Paths (30 years)\")\n",
    "plt.ylabel(\"Cumulative Value\")\n",
    "plt.xlabel(\"Date\")\n",
    "plt.legend()\n",
    "plt.grid(True)\n",
    "plt.tight_layout()\n",
    "plt.show()\n"
   ]
  },
  {
   "cell_type": "code",
   "execution_count": 111,
   "id": "d62e8ff0",
   "metadata": {},
   "outputs": [],
   "source": [
    "import random as rand"
   ]
  },
  {
   "cell_type": "code",
   "execution_count": 95,
   "id": "2bb1db23",
   "metadata": {},
   "outputs": [],
   "source": [
    "birth_year = 2002\n",
    "starting_age = 23"
   ]
  },
  {
   "cell_type": "code",
   "execution_count": 74,
   "id": "8e01cec5",
   "metadata": {},
   "outputs": [],
   "source": [
    "f = open(\"./data/life_expectancy_male.csv\", \"r\").readlines()"
   ]
  },
  {
   "cell_type": "code",
   "execution_count": 121,
   "id": "a0ab3ad1",
   "metadata": {},
   "outputs": [],
   "source": [
    "# could be computed\n",
    "data_start = 1933\n",
    "age_range = 111\n",
    "\n",
    "data = []\n",
    "for line in f[1:]:\n",
    "    # print([item for item in line.strip().split(\" \") if item != \"\"])\n",
    "    row = line.strip().split()\n",
    "    data.append(float(row[3]))"
   ]
  },
  {
   "cell_type": "code",
   "execution_count": 122,
   "id": "642364b0",
   "metadata": {},
   "outputs": [],
   "source": [
    "starting_index = ((birth_year - data_start) * age_range)"
   ]
  },
  {
   "cell_type": "code",
   "execution_count": 147,
   "id": "5bafca6b",
   "metadata": {},
   "outputs": [
    {
     "name": "stdout",
     "output_type": "stream",
     "text": [
      "23\n",
      "24\n",
      "25\n",
      "26\n",
      "27\n",
      "28\n",
      "29\n",
      "30\n",
      "31\n",
      "32\n",
      "33\n",
      "34\n",
      "35\n",
      "36\n",
      "37\n",
      "38\n",
      "39\n",
      "40\n",
      "41\n",
      "42\n",
      "43\n",
      "44\n",
      "45\n",
      "46\n",
      "47\n",
      "48\n",
      "49\n",
      "50\n",
      "51\n",
      "52\n",
      "53\n",
      "54\n",
      "55\n",
      "56\n",
      "57\n",
      "58\n",
      "59\n",
      "60\n",
      "61\n",
      "62\n",
      "63\n",
      "64\n",
      "65\n",
      "66\n",
      "67\n",
      "68\n",
      "69\n",
      "70\n",
      "71\n",
      "72\n",
      "73\n",
      "74\n",
      "75\n",
      "76\n",
      "77\n",
      "78\n",
      "79\n",
      "80\n",
      "81\n",
      "82\n",
      "83\n",
      "84\n",
      "85\n",
      "86\n",
      "87\n",
      "88\n",
      "89\n",
      "90\n"
     ]
    }
   ],
   "source": [
    "alive = True\n",
    "\n",
    "age = starting_age\n",
    "while alive:\n",
    "    print(age)\n",
    "    age += 1\n",
    "\n",
    "    if(rand.random()*2 <= data[(starting_index+age)]):\n",
    "        alive = False\n"
   ]
  },
  {
   "cell_type": "code",
   "execution_count": null,
   "id": "b95f97b6",
   "metadata": {},
   "outputs": [
    {
     "data": {
      "text/plain": [
       "0.29631619452356195"
      ]
     },
     "execution_count": 115,
     "metadata": {},
     "output_type": "execute_result"
    }
   ],
   "source": []
  },
  {
   "cell_type": "code",
   "execution_count": 4,
   "id": "a3847def",
   "metadata": {},
   "outputs": [
    {
     "name": "stdout",
     "output_type": "stream",
     "text": [
      "Successfully processed data and saved to ./data/life_expectancy_male.csv\n"
     ]
    },
    {
     "name": "stderr",
     "output_type": "stream",
     "text": [
      "/var/folders/sh/42tj95_n6kgc5kn5l5z6pwqr0000gn/T/ipykernel_97091/3275420124.py:15: FutureWarning: The 'delim_whitespace' keyword in pd.read_csv is deprecated and will be removed in a future version. Use ``sep='\\s+'`` instead\n",
      "  df = pd.read_csv(input_file, delim_whitespace=True)\n"
     ]
    }
   ],
   "source": [
    "import pandas as pd\n",
    "\n",
    "def process_mortality_data(input_file, output_file):\n",
    "    \"\"\"\n",
    "    Reads mortality data from an input file, selects 'Year', 'Age', and 'mx' columns,\n",
    "    and saves the result to a new CSV file.\n",
    "\n",
    "    Args:\n",
    "        input_file (str): The path to the input text file containing the mortality data.\n",
    "        output_file (str): The path to the output CSV file.\n",
    "    \"\"\"\n",
    "    try:\n",
    "        # Read the data, using tab or multiple spaces as a delimiter\n",
    "        # You might need to adjust the delimiter based on the exact spacing in your file\n",
    "        df = pd.read_csv(input_file, delim_whitespace=True)\n",
    "\n",
    "        # Select only the desired columns\n",
    "        df_selected = df[['Year', 'Age', 'mx']]\n",
    "\n",
    "        # Save the selected data to a CSV file\n",
    "        df_selected.to_csv(output_file, index=False)\n",
    "        print(f\"Successfully processed data and saved to {output_file}\")\n",
    "\n",
    "    except FileNotFoundError:\n",
    "        print(f\"Error: Input file '{input_file}' not found.\")\n",
    "    except KeyError as e:\n",
    "        print(f\"Error: Missing expected column in the input file: {e}\")\n",
    "    except Exception as e:\n",
    "        print(f\"An unexpected error occurred: {e}\")\n",
    "\n",
    "\n",
    "input_filename = './data/raw/life_expectancy_male.csv'  # Your input file name\n",
    "output_filename = './data/life_expectancy_male.csv' # Your desired output CSV file name\n",
    "\n",
    "process_mortality_data(input_filename, output_filename)"
   ]
  },
  {
   "cell_type": "code",
   "execution_count": 16,
   "id": "034d609d",
   "metadata": {},
   "outputs": [],
   "source": [
    "import pandas as pd\n",
    "\n",
    "# Read the CSV file\n",
    "df = pd.read_csv(\"./data/raw/hysa_analog_historic.csv\")\n",
    "\n",
    "# Calculate month-to-month percentage change\n",
    "df['pct_change'] = df['FEDFUNDS']*.5#.pct_change()\n",
    "\n",
    "# Drop the first row (NaN from pct_change)\n",
    "pct_changes = df['pct_change'].dropna()\n",
    "\n",
    "# Save to a new CSV file with only the percentage change values\n",
    "pct_changes.to_csv(\"./data/hysa_analog_historic.csv\", index=False, header=False)\n"
   ]
  },
  {
   "cell_type": "code",
   "execution_count": 13,
   "id": "f704425f",
   "metadata": {},
   "outputs": [],
   "source": [
    "monthly_returns = [-0.00721492, -0.0150179, 0.00514696, 0.0220283, 0.0112382, 0.00264571, -0.0134241, -0.0343181, 0.0287007, 0.108251, -0.0642819, -0.0445841, -0.013077, 0.0402071, 0.0837741, 0.0292973, -0.0589835, 0.0163953, -0.0552607, -0.036475, 0.0530314, -0.0648605, -0.0433561, -0.0575119, 0.0681935, 0.0922693, -0.0484941, -0.076318, -0.023137, -0.0245677, -0.0682183, -0.0120065, -0.0147916, 0.00507091, -0.0730999, -0.0584615, 0.0237379, -0.0729267, 0.024507, -0.0625299, -0.0409694, 0.0913353, -0.15905, -0.0310332, -0.110142, 0.0210786, 0.0546918, 0.00445149, -0.0295571, 0.0779142, 0.0211949, -0.00474753, 0.00553284, -0.13338, -0.031367, -0.0509482, -0.0734325, 0.0600961, -0.0060611, -0.0231444]\n",
    "\n",
    "total = 1\n",
    "totals = []\n",
    "for r in monthly_returns:\n",
    "    total *= (1 + r)\n",
    "    totals.append(total)"
   ]
  },
  {
   "cell_type": "code",
   "execution_count": 14,
   "id": "30e42659",
   "metadata": {},
   "outputs": [
    {
     "data": {
      "text/plain": [
       "[<matplotlib.lines.Line2D at 0x149855a90>]"
      ]
     },
     "execution_count": 14,
     "metadata": {},
     "output_type": "execute_result"
    },
    {
     "data": {
      "image/png": "[encoded data removed]",
      "text/plain": [
       "<Figure size 640x480 with 1 Axes>"
      ]
     },
     "metadata": {},
     "output_type": "display_data"
    }
   ],
   "source": [
    "plt.plot(totals)"
   ]
  },
  {
   "cell_type": "code",
   "execution_count": 9,
   "id": "d0de4f5d",
   "metadata": {},
   "outputs": [],
   "source": [
    "in_data = \"\"\"2024\t0.5\t0.6\t0.6\t0.4\t0.2\t0.0\t0.1\t0.1\t0.2\t0.1\t-0.1\t0.0\n",
    "2023\t0.8\t0.6\t0.3\t0.5\t0.3\t0.3\t0.2\t0.4\t0.2\t0.0\t-0.2\t-0.1\n",
    "2022\t0.8\t0.9\t1.3\t0.6\t1.1\t1.4\t0.0\t0.0\t0.2\t0.4\t-0.1\t-0.3\n",
    "2021\t0.4\t0.5\t0.7\t0.8\t0.8\t0.9\t0.5\t0.2\t0.3\t0.8\t0.5\t0.3\n",
    "2020\t0.4\t0.3\t-0.2\t-0.7\t0.0\t0.5\t0.5\t0.3\t0.1\t0.0\t-0.1\t0.1\n",
    "2019\t0.2\t0.4\t0.6\t0.5\t0.2\t0.0\t0.2\t0.0\t0.1\t0.2\t-0.1\t-0.1\n",
    "2018\t0.5\t0.5\t0.2\t0.4\t0.4\t0.2\t0.0\t0.1\t0.1\t0.2\t-0.3\t-0.3\n",
    "2017\t0.6\t0.3\t0.1\t0.3\t0.1\t0.1\t-0.1\t0.3\t0.5\t-0.1\t0.0\t-0.1\n",
    "2016\t0.2\t0.1\t0.4\t0.5\t0.4\t0.3\t-0.2\t0.1\t0.2\t0.1\t-0.2\t0.0\n",
    "2015\t-0.5\t0.4\t0.6\t0.2\t0.5\t0.4\t0.0\t-0.1\t-0.2\t0.0\t-0.2\t-0.3\n",
    "2014\t0.4\t0.4\t0.6\t0.3\t0.3\t0.2\t0.0\t-0.2\t0.1\t-0.3\t-0.5\t-0.6\n",
    "2013\t0.3\t0.8\t0.3\t-0.1\t0.2\t0.2\t0.0\t0.1\t0.1\t-0.3\t-0.2\t0.0\n",
    "2012\t0.4\t0.4\t0.8\t0.3\t-0.1\t-0.1\t-0.2\t0.6\t0.4\t0.0\t-0.5\t-0.3\n",
    "2011\t0.5\t0.5\t1.0\t0.6\t0.5\t-0.1\t0.1\t0.3\t0.2\t-0.2\t-0.1\t-0.2\n",
    "2010\t0.3\t0.0\t0.4\t0.2\t0.1\t-0.1\t0.0\t0.1\t0.1\t0.1\t0.0\t0.2\n",
    "2009\t0.4\t0.5\t0.2\t0.2\t0.3\t0.9\t-0.2\t0.2\t0.1\t0.1\t0.1\t-0.2\n",
    "2008\t0.5\t0.3\t0.9\t0.6\t0.8\t1.0\t0.5\t-0.4\t-0.1\t-1.0\t-1.9\t-1.0\n",
    "2007\t0.3\t0.5\t0.9\t0.6\t0.6\t0.2\t0.0\t-0.2\t0.3\t0.2\t0.6\t-0.1\n",
    "2006\t0.8\t0.2\t0.6\t0.9\t0.5\t0.2\t0.3\t0.2\t-0.5\t-0.5\t-0.1\t0.1\n",
    "2005\t0.2\t0.6\t0.8\t0.7\t-0.1\t0.1\t0.5\t0.5\t1.2\t0.2\t-0.8\t-0.4\n",
    "2004\t0.5\t0.5\t0.6\t0.3\t0.6\t0.3\t-0.2\t0.1\t0.2\t0.5\t0.1\t-0.4\n",
    "2003\t0.4\t0.8\t0.6\t-0.2\t-0.2\t0.1\t0.1\t0.4\t0.3\t-0.1\t-0.3\t-0.1\n",
    "2002\t0.2\t0.4\t0.6\t0.6\t0.0\t0.1\t0.1\t0.3\t0.2\t0.2\t0.0\t-0.2\n",
    "2001\t0.6\t0.4\t0.2\t0.4\t0.5\t0.2\t-0.3\t0.0\t0.5\t-0.3\t-0.2\t-0.4\n",
    "2000\t0.3\t0.6\t0.8\t0.1\t0.1\t0.5\t0.2\t0.0\t0.5\t0.2\t0.1\t-0.1\n",
    "1999\t0.2\t0.1\t0.3\t0.7\t0.0\t0.0\t0.3\t0.2\t0.5\t0.2\t0.1\t0.0\n",
    "1998\t0.2\t0.2\t0.2\t0.2\t0.2\t0.1\t0.1\t0.1\t0.1\t0.2\t0.0\t-0.1\n",
    "1997\t0.3\t0.3\t0.3\t0.1\t-0.1\t0.1\t0.1\t0.2\t0.2\t0.2\t-0.1\t-0.1\n",
    "1996\t0.6\t0.3\t0.5\t0.4\t0.2\t0.1\t0.2\t0.2\t0.3\t0.3\t0.2\t0.0\n",
    "1995\t0.4\t0.4\t0.3\t0.3\t0.2\t0.2\t0.0\t0.3\t0.2\t0.3\t-0.1\t-0.1\n",
    "1994\t0.3\t0.3\t0.3\t0.1\t0.1\t0.3\t0.3\t0.4\t0.3\t0.1\t0.1\t0.0\n",
    "1993\t0.5\t0.4\t0.3\t0.3\t0.1\t0.1\t0.0\t0.3\t0.2\t0.4\t0.1\t0.0\n",
    "1992\t0.1\t0.4\t0.5\t0.1\t0.1\t0.4\t0.2\t0.3\t0.3\t0.4\t0.1\t-0.1\n",
    "1991\t0.6\t0.1\t0.1\t0.1\t0.3\t0.3\t0.1\t0.3\t0.4\t0.1\t0.3\t0.1\n",
    "1990\t1.0\t0.5\t0.5\t0.2\t0.2\t0.5\t0.4\t0.9\t0.8\t0.6\t0.2\t0.0\n",
    "1989\t0.5\t0.4\t0.6\t0.7\t0.6\t0.2\t0.2\t0.2\t0.3\t0.5\t0.2\t0.2\n",
    "1988\t0.3\t0.3\t0.4\t0.5\t0.3\t0.4\t0.4\t0.4\t0.7\t0.3\t0.1\t0.2\n",
    "1987\t0.6\t0.4\t0.4\t0.5\t0.4\t0.4\t0.3\t0.5\t0.5\t0.3\t0.1\t0.0\n",
    "1986\t0.3\t-0.3\t-0.5\t-0.2\t0.3\t0.6\t0.0\t0.2\t0.5\t0.1\t0.1\t0.1\n",
    "1985\t0.2\t0.5\t0.4\t0.5\t0.4\t0.3\t0.2\t0.2\t0.3\t0.4\t0.3\t0.3\n",
    "1984\t0.6\t0.5\t0.2\t0.5\t0.3\t0.3\t0.4\t0.4\t0.5\t0.3\t0.0\t0.0\n",
    "1983\t0.2\t0.1\t0.0\t0.7\t0.6\t0.3\t0.4\t0.3\t0.5\t0.3\t0.2\t0.1\n",
    "1982\t0.3\t0.3\t-0.1\t0.4\t0.9\t1.3\t0.5\t0.2\t0.2\t0.3\t-0.2\t-0.4\n",
    "1981\t0.8\t1.0\t0.7\t0.7\t0.8\t0.9\t1.1\t0.8\t1.0\t0.2\t0.3\t0.3\n",
    "1980\t1.4\t1.4\t1.5\t1.1\t1.0\t1.1\t0.0\t0.7\t0.8\t1.0\t0.8\t0.9\n",
    "1979\t0.9\t1.2\t1.0\t1.1\t1.3\t1.1\t1.1\t1.0\t1.1\t0.8\t0.9\t1.1\n",
    "1978\t0.6\t0.6\t0.8\t0.8\t0.9\t1.1\t0.8\t0.5\t0.8\t0.9\t0.4\t0.4\n",
    "1977\t0.5\t1.0\t0.7\t0.8\t0.5\t0.7\t0.5\t0.3\t0.3\t0.3\t0.5\t0.3\n",
    "1976\t0.2\t0.4\t0.2\t0.4\t0.7\t0.5\t0.5\t0.5\t0.3\t0.5\t0.2\t0.3\n",
    "1975\t0.4\t0.8\t0.4\t0.4\t0.6\t0.8\t1.1\t0.2\t0.6\t0.5\t0.7\t0.4\n",
    "1974\t0.9\t1.3\t1.3\t0.4\t1.3\t0.8\t0.8\t1.2\t1.2\t1.0\t0.8\t0.8\n",
    "1973\t0.2\t0.7\t0.9\t0.7\t0.7\t0.7\t0.2\t1.8\t0.2\t0.9\t0.7\t0.7\n",
    "1972\t0.0\t0.5\t0.2\t0.2\t0.2\t0.2\t0.5\t0.2\t0.2\t0.5\t0.2\t0.2\n",
    "1971\t0.0\t0.3\t0.3\t0.3\t0.5\t0.7\t0.2\t0.2\t0.0\t0.2\t0.0\t0.5\n",
    "1970\t0.3\t0.5\t0.5\t0.8\t0.3\t0.5\t0.5\t0.0\t0.5\t0.5\t0.5\t0.5\n",
    "1969\t0.3\t0.6\t0.8\t0.6\t0.3\t0.5\t0.5\t0.5\t0.3\t0.5\t0.5\t0.5\n",
    "1968\t0.6\t0.3\t0.3\t0.3\t0.3\t0.6\t0.6\t0.3\t0.3\t0.6\t0.3\t0.3\n",
    "1967\t0.0\t0.0\t0.3\t0.3\t0.3\t0.3\t0.3\t0.3\t0.3\t0.3\t0.3\t0.3\n",
    "1966\t0.0\t0.6\t0.3\t0.6\t0.0\t0.3\t0.3\t0.6\t0.0\t0.6\t0.0\t0.0\n",
    "1965\t0.0\t0.0\t0.3\t0.3\t0.0\t0.6\t0.0\t0.0\t0.0\t0.3\t0.0\t0.3\n",
    "1964\t0.0\t0.0\t0.0\t0.0\t0.0\t0.3\t0.3\t-0.3\t0.3\t0.0\t0.3\t0.0\n",
    "1963\t0.0\t0.0\t0.3\t0.0\t0.0\t0.3\t0.3\t0.0\t0.0\t0.3\t0.0\t0.3\n",
    "1962\t0.0\t0.3\t0.0\t0.3\t0.0\t0.0\t0.3\t0.0\t0.3\t0.0\t0.0\t0.0\n",
    "1961\t0.0\t0.0\t0.0\t0.0\t0.0\t0.0\t0.7\t-0.3\t0.3\t0.0\t0.0\t0.0\n",
    "1960\t-0.3\t0.3\t0.0\t0.3\t0.0\t0.3\t0.0\t0.0\t0.0\t0.7\t0.0\t0.0\n",
    "1959\t0.3\t-0.3\t0.0\t0.3\t0.0\t0.3\t0.3\t0.0\t0.3\t0.3\t0.0\t0.0\n",
    "1958\t0.7\t0.0\t0.7\t0.3\t0.0\t0.0\t0.3\t-0.3\t0.0\t0.0\t0.3\t-0.3\n",
    "1957\t0.0\t0.4\t0.4\t0.4\t0.4\t0.4\t0.7\t0.0\t0.0\t0.0\t0.4\t0.0\n",
    "1956\t0.0\t0.0\t0.0\t0.4\t0.4\t0.7\t0.7\t-0.4\t0.4\t0.4\t0.0\t0.4\n",
    "1955\t0.0\t0.0\t0.0\t0.0\t0.0\t0.0\t0.4\t0.0\t0.4\t0.0\t0.0\t-0.4\n",
    "1954\t0.0\t0.0\t0.0\t-0.4\t0.4\t0.0\t0.0\t0.0\t-0.4\t0.0\t0.0\t-0.4\n",
    "1953\t-0.4\t-0.4\t0.4\t0.0\t0.4\t0.4\t0.0\t0.4\t0.0\t0.4\t-0.4\t0.0\n",
    "1952\t0.0\t-0.8\t0.0\t0.4\t0.0\t0.4\t0.8\t0.0\t0.0\t0.0\t0.0\t0.0\n",
    "1951\t1.6\t1.2\t0.4\t0.0\t0.4\t0.0\t0.0\t0.0\t0.8\t0.4\t0.8\t0.4\n",
    "1950\t-0.4\t0.0\t0.4\t0.0\t0.4\t0.4\t1.3\t0.8\t0.4\t0.8\t0.4\t1.2\n",
    "1949\t-0.4\t-0.8\t0.0\t0.4\t-0.4\t0.4\t-0.8\t0.4\t0.4\t-0.8\t0.4\t-0.8\n",
    "1948\t1.3\t-0.8\t-0.4\t1.7\t0.4\t0.8\t1.2\t0.4\t0.0\t-0.4\t-0.8\t-0.4\n",
    "1947\t0.0\t0.0\t1.9\t0.0\t0.0\t0.5\t0.9\t1.4\t2.2\t0.0\t0.4\t1.3\n",
    "1946\t0.0\t-0.5\t1.1\t0.5\t0.5\t1.1\t5.9\t2.0\t1.0\t2.0\t2.4\t0.9\n",
    "1945\t0.0\t0.0\t0.0\t0.0\t0.6\t1.1\t0.0\t0.0\t0.0\t0.0\t0.0\t0.6\n",
    "1944\t0.0\t0.0\t0.0\t0.6\t0.0\t0.6\t0.6\t0.0\t0.0\t0.0\t0.0\t0.6\n",
    "1943\t0.0\t0.0\t1.8\t1.2\t0.6\t0.0\t-0.6\t-0.6\t0.6\t0.0\t0.0\t0.0\n",
    "1942\t1.3\t0.6\t1.3\t0.6\t1.2\t0.0\t0.6\t0.6\t0.0\t1.2\t0.6\t0.6\n",
    "1941\t0.0\t0.0\t0.7\t0.7\t0.7\t2.1\t0.0\t1.4\t1.3\t1.3\t0.7\t0.6\n",
    "1940\t-0.7\t0.7\t0.0\t0.0\t0.0\t0.7\t-0.7\t0.0\t0.0\t0.0\t0.0\t0.7\n",
    "1939\t0.0\t-0.7\t0.0\t-0.7\t0.0\t0.0\t0.0\t0.0\t2.2\t-0.7\t0.0\t0.0\n",
    "1938\t-1.4\t-0.7\t0.0\t0.7\t-0.7\t0.0\t0.0\t0.0\t0.0\t-0.7\t0.0\t0.0\n",
    "1937\t0.7\t0.0\t0.7\t0.7\t0.7\t0.0\t0.7\t0.0\t0.7\t0.0\t-0.7\t-0.7\n",
    "1936\t0.0\t0.0\t-0.7\t0.0\t0.0\t0.7\t0.7\t0.7\t0.0\t0.0\t0.0\t0.0\n",
    "1935\t1.5\t0.7\t0.0\t0.7\t0.0\t-0.7\t0.0\t0.0\t0.0\t0.0\t0.7\t0.0\n",
    "1934\t0.0\t0.8\t0.0\t0.0\t0.0\t0.8\t0.0\t0.0\t1.5\t-0.7\t0.0\t-0.7\n",
    "1933\t-1.5\t-1.6\t-0.8\t0.0\t0.0\t0.8\t3.1\t0.8\t0.0\t0.0\t0.0\t0.0\n",
    "1932\t-2.1\t-1.4\t-0.7\t-0.7\t-1.4\t-0.7\t0.0\t-0.7\t-0.7\t-0.7\t-0.8\t-0.8\n",
    "1931\t-1.2\t-1.3\t-0.6\t-0.6\t-1.3\t-1.3\t0.0\t0.0\t-0.7\t-0.7\t-1.3\t-0.7\n",
    "1930\t-0.6\t-0.6\t-0.6\t0.6\t-0.6\t-0.6\t-1.2\t-0.6\t0.6\t-0.6\t-0.6\t-1.8\n",
    "1929\t0.0\t0.0\t-0.6\t-0.6\t0.6\t0.6\t1.2\t0.0\t0.0\t0.0\t0.0\t-0.6\n",
    "1928\t0.0\t-1.2\t0.0\t0.0\t0.6\t-0.6\t0.0\t0.0\t1.2\t-0.6\t0.0\t-0.6\n",
    "1927\t-1.1\t-0.6\t-0.6\t0.0\t0.6\t1.1\t-1.7\t-0.6\t0.6\t0.6\t-0.6\t0.0\n",
    "1926\t0.0\t0.0\t-0.6\t0.6\t-0.6\t-0.6\t-1.1\t-0.6\t0.6\t0.6\t0.6\t0.0\n",
    "1925\t0.0\t-0.6\t0.6\t-0.6\t0.6\t1.2\t1.1\t0.0\t0.0\t0.0\t1.7\t-0.6\n",
    "1924\t0.0\t-0.6\t-0.6\t-0.6\t0.0\t0.0\t0.6\t-0.6\t0.6\t0.6\t0.0\t0.6\n",
    "1923\t-0.6\t0.0\t0.0\t0.6\t0.0\t0.6\t1.2\t-0.6\t0.6\t0.6\t0.0\t0.0\n",
    "1922\t-2.3\t0.0\t-1.2\t0.0\t0.0\t0.0\t0.6\t-1.2\t0.0\t0.6\t0.6\t0.6\n",
    "1921\t-2.1\t-3.2\t-0.5\t-1.1\t-2.2\t-0.6\t0.6\t0.0\t-1.1\t0.0\t-0.6\t-0.6\n",
    "1920\t2.1\t1.0\t1.0\t3.0\t1.5\t1.5\t-0.5\t-2.4\t-1.5\t-0.5\t-0.5\t-2.0\n",
    "1919\t0.0\t-1.8\t1.2\t1.8\t1.2\t0.0\t3.0\t1.7\t0.6\t1.7\t2.2\t2.2\n",
    "1918\t2.2\t0.7\t-0.7\t1.4\t2.1\t1.4\t2.7\t2.0\t1.9\t1.9\t1.9\t1.2\n",
    "1917\t0.9\t2.6\t0.0\t5.0\t1.6\t1.6\t-1.5\t1.6\t2.3\t1.5\t0.0\t1.5\n",
    "1916\t1.0\t0.0\t1.0\t1.0\t0.9\t0.9\t0.0\t0.9\t1.8\t1.8\t1.8\t0.9\n",
    "1915\t0.0\t-1.0\t-1.0\t1.0\t1.0\t0.0\t0.0\t0.0\t0.0\t1.0\t1.0\t0.0\n",
    "1914\t0.0\t-1.0\t0.0\t-1.0\t1.0\t0.0\t1.0\t2.0\t0.0\t-1.0\t1.0\t-1.0\"\"\""
   ]
  },
  {
   "cell_type": "code",
   "execution_count": 11,
   "id": "f0016983",
   "metadata": {},
   "outputs": [
    {
     "name": "stdout",
     "output_type": "stream",
     "text": [
      "[0.0, -1.0, 0.0, -1.0, 1.0, 0.0, 1.0, 2.0, 0.0, -1.0, 1.0, -1.0, 0.0, -1.0, -1.0, 1.0, 1.0, 0.0, 0.0, 0.0, 0.0, 1.0, 1.0, 0.0, 1.0, 0.0, 1.0, 1.0, 0.9, 0.9, 0.0, 0.9, 1.8, 1.8, 1.8, 0.9, 0.9, 2.6, 0.0, 5.0, 1.6, 1.6, -1.5, 1.6, 2.3, 1.5, 0.0, 1.5, 2.2, 0.7, -0.7, 1.4, 2.1, 1.4, 2.7, 2.0, 1.9, 1.9, 1.9, 1.2, 0.0, -1.8, 1.2, 1.8, 1.2, 0.0, 3.0, 1.7, 0.6, 1.7, 2.2, 2.2, 2.1, 1.0, 1.0, 3.0, 1.5, 1.5, -0.5, -2.4, -1.5, -0.5, -0.5, -2.0, -2.1, -3.2, -0.5, -1.1, -2.2, -0.6, 0.6, 0.0, -1.1, 0.0, -0.6, -0.6, -2.3, 0.0, -1.2, 0.0, 0.0, 0.0, 0.6, -1.2, 0.0, 0.6, 0.6, 0.6, -0.6, 0.0, 0.0, 0.6, 0.0, 0.6, 1.2, -0.6, 0.6, 0.6, 0.0, 0.0, 0.0, -0.6, -0.6, -0.6, 0.0, 0.0, 0.6, -0.6, 0.6, 0.6, 0.0, 0.6, 0.0, -0.6, 0.6, -0.6, 0.6, 1.2, 1.1, 0.0, 0.0, 0.0, 1.7, -0.6, 0.0, 0.0, -0.6, 0.6, -0.6, -0.6, -1.1, -0.6, 0.6, 0.6, 0.6, 0.0, -1.1, -0.6, -0.6, 0.0, 0.6, 1.1, -1.7, -0.6, 0.6, 0.6, -0.6, 0.0, 0.0, -1.2, 0.0, 0.0, 0.6, -0.6, 0.0, 0.0, 1.2, -0.6, 0.0, -0.6, 0.0, 0.0, -0.6, -0.6, 0.6, 0.6, 1.2, 0.0, 0.0, 0.0, 0.0, -0.6, -0.6, -0.6, -0.6, 0.6, -0.6, -0.6, -1.2, -0.6, 0.6, -0.6, -0.6, -1.8, -1.2, -1.3, -0.6, -0.6, -1.3, -1.3, 0.0, 0.0, -0.7, -0.7, -1.3, -0.7, -2.1, -1.4, -0.7, -0.7, -1.4, -0.7, 0.0, -0.7, -0.7, -0.7, -0.8, -0.8, -1.5, -1.6, -0.8, 0.0, 0.0, 0.8, 3.1, 0.8, 0.0, 0.0, 0.0, 0.0, 0.0, 0.8, 0.0, 0.0, 0.0, 0.8, 0.0, 0.0, 1.5, -0.7, 0.0, -0.7, 1.5, 0.7, 0.0, 0.7, 0.0, -0.7, 0.0, 0.0, 0.0, 0.0, 0.7, 0.0, 0.0, 0.0, -0.7, 0.0, 0.0, 0.7, 0.7, 0.7, 0.0, 0.0, 0.0, 0.0, 0.7, 0.0, 0.7, 0.7, 0.7, 0.0, 0.7, 0.0, 0.7, 0.0, -0.7, -0.7, -1.4, -0.7, 0.0, 0.7, -0.7, 0.0, 0.0, 0.0, 0.0, -0.7, 0.0, 0.0, 0.0, -0.7, 0.0, -0.7, 0.0, 0.0, 0.0, 0.0, 2.2, -0.7, 0.0, 0.0, -0.7, 0.7, 0.0, 0.0, 0.0, 0.7, -0.7, 0.0, 0.0, 0.0, 0.0, 0.7, 0.0, 0.0, 0.7, 0.7, 0.7, 2.1, 0.0, 1.4, 1.3, 1.3, 0.7, 0.6, 1.3, 0.6, 1.3, 0.6, 1.2, 0.0, 0.6, 0.6, 0.0, 1.2, 0.6, 0.6, 0.0, 0.0, 1.8, 1.2, 0.6, 0.0, -0.6, -0.6, 0.6, 0.0, 0.0, 0.0, 0.0, 0.0, 0.0, 0.6, 0.0, 0.6, 0.6, 0.0, 0.0, 0.0, 0.0, 0.6, 0.0, 0.0, 0.0, 0.0, 0.6, 1.1, 0.0, 0.0, 0.0, 0.0, 0.0, 0.6, 0.0, -0.5, 1.1, 0.5, 0.5, 1.1, 5.9, 2.0, 1.0, 2.0, 2.4, 0.9, 0.0, 0.0, 1.9, 0.0, 0.0, 0.5, 0.9, 1.4, 2.2, 0.0, 0.4, 1.3, 1.3, -0.8, -0.4, 1.7, 0.4, 0.8, 1.2, 0.4, 0.0, -0.4, -0.8, -0.4, -0.4, -0.8, 0.0, 0.4, -0.4, 0.4, -0.8, 0.4, 0.4, -0.8, 0.4, -0.8, -0.4, 0.0, 0.4, 0.0, 0.4, 0.4, 1.3, 0.8, 0.4, 0.8, 0.4, 1.2, 1.6, 1.2, 0.4, 0.0, 0.4, 0.0, 0.0, 0.0, 0.8, 0.4, 0.8, 0.4, 0.0, -0.8, 0.0, 0.4, 0.0, 0.4, 0.8, 0.0, 0.0, 0.0, 0.0, 0.0, -0.4, -0.4, 0.4, 0.0, 0.4, 0.4, 0.0, 0.4, 0.0, 0.4, -0.4, 0.0, 0.0, 0.0, 0.0, -0.4, 0.4, 0.0, 0.0, 0.0, -0.4, 0.0, 0.0, -0.4, 0.0, 0.0, 0.0, 0.0, 0.0, 0.0, 0.4, 0.0, 0.4, 0.0, 0.0, -0.4, 0.0, 0.0, 0.0, 0.4, 0.4, 0.7, 0.7, -0.4, 0.4, 0.4, 0.0, 0.4, 0.0, 0.4, 0.4, 0.4, 0.4, 0.4, 0.7, 0.0, 0.0, 0.0, 0.4, 0.0, 0.7, 0.0, 0.7, 0.3, 0.0, 0.0, 0.3, -0.3, 0.0, 0.0, 0.3, -0.3, 0.3, -0.3, 0.0, 0.3, 0.0, 0.3, 0.3, 0.0, 0.3, 0.3, 0.0, 0.0, -0.3, 0.3, 0.0, 0.3, 0.0, 0.3, 0.0, 0.0, 0.0, 0.7, 0.0, 0.0, 0.0, 0.0, 0.0, 0.0, 0.0, 0.0, 0.7, -0.3, 0.3, 0.0, 0.0, 0.0, 0.0, 0.3, 0.0, 0.3, 0.0, 0.0, 0.3, 0.0, 0.3, 0.0, 0.0, 0.0, 0.0, 0.0, 0.3, 0.0, 0.0, 0.3, 0.3, 0.0, 0.0, 0.3, 0.0, 0.3, 0.0, 0.0, 0.0, 0.0, 0.0, 0.3, 0.3, -0.3, 0.3, 0.0, 0.3, 0.0, 0.0, 0.0, 0.3, 0.3, 0.0, 0.6, 0.0, 0.0, 0.0, 0.3, 0.0, 0.3, 0.0, 0.6, 0.3, 0.6, 0.0, 0.3, 0.3, 0.6, 0.0, 0.6, 0.0, 0.0, 0.0, 0.0, 0.3, 0.3, 0.3, 0.3, 0.3, 0.3, 0.3, 0.3, 0.3, 0.3, 0.6, 0.3, 0.3, 0.3, 0.3, 0.6, 0.6, 0.3, 0.3, 0.6, 0.3, 0.3, 0.3, 0.6, 0.8, 0.6, 0.3, 0.5, 0.5, 0.5, 0.3, 0.5, 0.5, 0.5, 0.3, 0.5, 0.5, 0.8, 0.3, 0.5, 0.5, 0.0, 0.5, 0.5, 0.5, 0.5, 0.0, 0.3, 0.3, 0.3, 0.5, 0.7, 0.2, 0.2, 0.0, 0.2, 0.0, 0.5, 0.0, 0.5, 0.2, 0.2, 0.2, 0.2, 0.5, 0.2, 0.2, 0.5, 0.2, 0.2, 0.2, 0.7, 0.9, 0.7, 0.7, 0.7, 0.2, 1.8, 0.2, 0.9, 0.7, 0.7, 0.9, 1.3, 1.3, 0.4, 1.3, 0.8, 0.8, 1.2, 1.2, 1.0, 0.8, 0.8, 0.4, 0.8, 0.4, 0.4, 0.6, 0.8, 1.1, 0.2, 0.6, 0.5, 0.7, 0.4, 0.2, 0.4, 0.2, 0.4, 0.7, 0.5, 0.5, 0.5, 0.3, 0.5, 0.2, 0.3, 0.5, 1.0, 0.7, 0.8, 0.5, 0.7, 0.5, 0.3, 0.3, 0.3, 0.5, 0.3, 0.6, 0.6, 0.8, 0.8, 0.9, 1.1, 0.8, 0.5, 0.8, 0.9, 0.4, 0.4, 0.9, 1.2, 1.0, 1.1, 1.3, 1.1, 1.1, 1.0, 1.1, 0.8, 0.9, 1.1, 1.4, 1.4, 1.5, 1.1, 1.0, 1.1, 0.0, 0.7, 0.8, 1.0, 0.8, 0.9, 0.8, 1.0, 0.7, 0.7, 0.8, 0.9, 1.1, 0.8, 1.0, 0.2, 0.3, 0.3, 0.3, 0.3, -0.1, 0.4, 0.9, 1.3, 0.5, 0.2, 0.2, 0.3, -0.2, -0.4, 0.2, 0.1, 0.0, 0.7, 0.6, 0.3, 0.4, 0.3, 0.5, 0.3, 0.2, 0.1, 0.6, 0.5, 0.2, 0.5, 0.3, 0.3, 0.4, 0.4, 0.5, 0.3, 0.0, 0.0, 0.2, 0.5, 0.4, 0.5, 0.4, 0.3, 0.2, 0.2, 0.3, 0.4, 0.3, 0.3, 0.3, -0.3, -0.5, -0.2, 0.3, 0.6, 0.0, 0.2, 0.5, 0.1, 0.1, 0.1, 0.6, 0.4, 0.4, 0.5, 0.4, 0.4, 0.3, 0.5, 0.5, 0.3, 0.1, 0.0, 0.3, 0.3, 0.4, 0.5, 0.3, 0.4, 0.4, 0.4, 0.7, 0.3, 0.1, 0.2, 0.5, 0.4, 0.6, 0.7, 0.6, 0.2, 0.2, 0.2, 0.3, 0.5, 0.2, 0.2, 1.0, 0.5, 0.5, 0.2, 0.2, 0.5, 0.4, 0.9, 0.8, 0.6, 0.2, 0.0, 0.6, 0.1, 0.1, 0.1, 0.3, 0.3, 0.1, 0.3, 0.4, 0.1, 0.3, 0.1, 0.1, 0.4, 0.5, 0.1, 0.1, 0.4, 0.2, 0.3, 0.3, 0.4, 0.1, -0.1, 0.5, 0.4, 0.3, 0.3, 0.1, 0.1, 0.0, 0.3, 0.2, 0.4, 0.1, 0.0, 0.3, 0.3, 0.3, 0.1, 0.1, 0.3, 0.3, 0.4, 0.3, 0.1, 0.1, 0.0, 0.4, 0.4, 0.3, 0.3, 0.2, 0.2, 0.0, 0.3, 0.2, 0.3, -0.1, -0.1, 0.6, 0.3, 0.5, 0.4, 0.2, 0.1, 0.2, 0.2, 0.3, 0.3, 0.2, 0.0, 0.3, 0.3, 0.3, 0.1, -0.1, 0.1, 0.1, 0.2, 0.2, 0.2, -0.1, -0.1, 0.2, 0.2, 0.2, 0.2, 0.2, 0.1, 0.1, 0.1, 0.1, 0.2, 0.0, -0.1, 0.2, 0.1, 0.3, 0.7, 0.0, 0.0, 0.3, 0.2, 0.5, 0.2, 0.1, 0.0, 0.3, 0.6, 0.8, 0.1, 0.1, 0.5, 0.2, 0.0, 0.5, 0.2, 0.1, -0.1, 0.6, 0.4, 0.2, 0.4, 0.5, 0.2, -0.3, 0.0, 0.5, -0.3, -0.2, -0.4, 0.2, 0.4, 0.6, 0.6, 0.0, 0.1, 0.1, 0.3, 0.2, 0.2, 0.0, -0.2, 0.4, 0.8, 0.6, -0.2, -0.2, 0.1, 0.1, 0.4, 0.3, -0.1, -0.3, -0.1, 0.5, 0.5, 0.6, 0.3, 0.6, 0.3, -0.2, 0.1, 0.2, 0.5, 0.1, -0.4, 0.2, 0.6, 0.8, 0.7, -0.1, 0.1, 0.5, 0.5, 1.2, 0.2, -0.8, -0.4, 0.8, 0.2, 0.6, 0.9, 0.5, 0.2, 0.3, 0.2, -0.5, -0.5, -0.1, 0.1, 0.3, 0.5, 0.9, 0.6, 0.6, 0.2, 0.0, -0.2, 0.3, 0.2, 0.6, -0.1, 0.5, 0.3, 0.9, 0.6, 0.8, 1.0, 0.5, -0.4, -0.1, -1.0, -1.9, -1.0, 0.4, 0.5, 0.2, 0.2, 0.3, 0.9, -0.2, 0.2, 0.1, 0.1, 0.1, -0.2, 0.3, 0.0, 0.4, 0.2, 0.1, -0.1, 0.0, 0.1, 0.1, 0.1, 0.0, 0.2, 0.5, 0.5, 1.0, 0.6, 0.5, -0.1, 0.1, 0.3, 0.2, -0.2, -0.1, -0.2, 0.4, 0.4, 0.8, 0.3, -0.1, -0.1, -0.2, 0.6, 0.4, 0.0, -0.5, -0.3, 0.3, 0.8, 0.3, -0.1, 0.2, 0.2, 0.0, 0.1, 0.1, -0.3, -0.2, 0.0, 0.4, 0.4, 0.6, 0.3, 0.3, 0.2, 0.0, -0.2, 0.1, -0.3, -0.5, -0.6, -0.5, 0.4, 0.6, 0.2, 0.5, 0.4, 0.0, -0.1, -0.2, 0.0, -0.2, -0.3, 0.2, 0.1, 0.4, 0.5, 0.4, 0.3, -0.2, 0.1, 0.2, 0.1, -0.2, 0.0, 0.6, 0.3, 0.1, 0.3, 0.1, 0.1, -0.1, 0.3, 0.5, -0.1, 0.0, -0.1, 0.5, 0.5, 0.2, 0.4, 0.4, 0.2, 0.0, 0.1, 0.1, 0.2, -0.3, -0.3, 0.2, 0.4, 0.6, 0.5, 0.2, 0.0, 0.2, 0.0, 0.1, 0.2, -0.1, -0.1, 0.4, 0.3, -0.2, -0.7, 0.0, 0.5, 0.5, 0.3, 0.1, 0.0, -0.1, 0.1, 0.4, 0.5, 0.7, 0.8, 0.8, 0.9, 0.5, 0.2, 0.3, 0.8, 0.5, 0.3, 0.8, 0.9, 1.3, 0.6, 1.1, 1.4, 0.0, 0.0, 0.2, 0.4, -0.1, -0.3, 0.8, 0.6, 0.3, 0.5, 0.3, 0.3, 0.2, 0.4, 0.2, 0.0, -0.2, -0.1, 0.5, 0.6, 0.6, 0.4, 0.2, 0.0, 0.1, 0.1, 0.2, 0.1, -0.1, 0.0]\n"
     ]
    }
   ],
   "source": [
    "import csv\n",
    "\n",
    "\n",
    "# Parse data into list of floats\n",
    "lines = in_data.strip().split('\\n')\n",
    "monthly_values = []\n",
    "\n",
    "# Sort years ascending\n",
    "lines = sorted(lines, key=lambda x: int(x.split()[0]))\n",
    "\n",
    "for line in lines:\n",
    "    parts = line.strip().split('\\t')\n",
    "    values = list(map(float, parts[1:]))\n",
    "    monthly_values.extend(values)\n",
    "\n",
    "print(monthly_values)\n",
    "\n",
    "# Calculate returns: (current - prev) / prev\n",
    "\n",
    "\n",
    "# Write to CSV\n",
    "with open('./data/inflation_historic.csv', 'w', newline='') as f:\n",
    "    writer = csv.writer(f)\n",
    "    for r in monthly_values:\n",
    "        writer.writerow([r])"
   ]
  },
  {
   "cell_type": "code",
   "execution_count": null,
   "id": "98e05de5",
   "metadata": {},
   "outputs": [],
   "source": []
  }
 ],
 "metadata": {
  "kernelspec": {
   "display_name": "Python 3",
   "language": "python",
   "name": "python3"
  },
  "language_info": {
   "codemirror_mode": {
    "name": "ipython",
    "version": 3
   },
   "file_extension": ".py",
   "mimetype": "text/x-python",
   "name": "python",
   "nbconvert_exporter": "python",
   "pygments_lexer": "ipython3",
   "version": "3.9.6"
  }
 },
 "nbformat": 4,
 "nbformat_minor": 5
}
